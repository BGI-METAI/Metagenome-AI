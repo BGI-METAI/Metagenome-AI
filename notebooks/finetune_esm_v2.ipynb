{
 "cells": [
  {
   "cell_type": "code",
   "execution_count": 1,
   "id": "c4bc1bce-bd71-438f-955b-8f33b4041774",
   "metadata": {},
   "outputs": [],
   "source": [
    "import torch\n",
    "import esm\n",
    "from torch import nn, optim\n",
    "import random\n",
    "import pandas as pd\n",
    "from tqdm import tqdm"
   ]
  },
  {
   "cell_type": "code",
   "execution_count": 7,
   "id": "23ac18e0-84af-4db8-b3e4-2dc8dcab0308",
   "metadata": {},
   "outputs": [
    {
     "name": "stdout",
     "output_type": "stream",
     "text": [
      "NLEIPMFD_00006 93 MCIFLRRAVLGCSCNYVLFMEYRTSDIQIAALLYAEGIELVNVDSSNPRRKEFVFKDEQQISELVKGFWQDTHKIAPRKYMGAFRELKNKLYS 0\n",
      "NLEIPMFD_00010 86 MKYFVYLARCADGSLYTGSCTNIKAREIRHNKGEGAAFTYKRRPVKIVYFEEFKTLIEAMRREKQIKRWTRKKKENLVKYGHPTKF 0\n",
      "NLEIPMFD_00012 77 MVFNVKRSTYVILTSFQMGKGDLKEKVITKFAYSTPSVTLALPTLFQSKALSAEQMRKLHATIFSVIDPPTQEAVES 0\n",
      "NLEIPMFD_00013 71 MLMKGVQHKNPITPFGKIIMHCPDPTVLAISQAHLVPFLIQIFGQQQHLLFSPADVGSVRVKEDSHGSLND 0\n",
      "NLEIPMFD_00015 42 MLPVSCVLEDWNYSPNYLGGVSIKNAGVPGNMLQGQSLNPNS 1\n",
      "NLEIPMFD_00022 99 MEKLVNIVKRCLNHHKLGESAKASHVLFTAQQFLDKWFVGEKMMAKPVQLKNAVLWIGVRHPTIAQEFRGVSDKLLKELQTRFGPKLVQKIRTKHLTSI 0\n",
      "NLEIPMFD_00025 96 MRLLLESIGFKVLEASNARHALTLINTEKPDITLTDHMMPGELTGEQLARHLHERGLKVVLTSGYPIEEESCFQFIAKPPRIGVLTAVLKKELGIE 0\n",
      "NLEIPMFD_00029 95 MLDLTLRSKFLSPTTMIKEAVILKYGVVFTGKRHNVIFNSAQAMGLGFAGLRGGEQGFVTESGEFVNRRKAFEIALACGQIEEREKRKLFSEDLY 0\n",
      "NLEIPMFD_00030 46 MSISSPAIRISGSGQIVQVLPMMKSRVITKFMGFSYLSYRTVKLVL 1\n",
      "NLEIPMFD_00034 39 MEIPFIKVHPARLRAEEVLKDVIVQLKEMIEAGRIRNDL 1\n"
     ]
    }
   ],
   "source": [
    "!head ../data/mariana_to_100.tsv"
   ]
  },
  {
   "cell_type": "code",
   "execution_count": 2,
   "id": "eff09417-2451-48f2-a62f-5c4fac525128",
   "metadata": {},
   "outputs": [],
   "source": [
    "# Example data: list of tuples (label, sequence)\n",
    "data = [\n",
    "    (\"protein1\", \"MKTAYIAKQRQISFVKSHFSRQDILDLWIYHTQGYFPQYKGSGRTQY\"),\n",
    "    (\"protein2\", \"GIEVVVNATLDKAGFQAGYIGFLKTFTLGVAGSGLLGGTY\"),\n",
    "    # Add more sequences here\n",
    "]\n",
    "\n",
    "# data = list()\n",
    "# df_paths = ['../data/AMP_new/AMP_2024_08_09.tsv', '../data/mariana_to_100.tsv']\n",
    "# for df_path,sep in zip(df_paths, ['\\t', ' ']):\n",
    "#     df = pd.read_csv(df_path, header=None, sep=sep)\n",
    "#     for ind, row in df.iterrows():\n",
    "#         data.append( (row[0], row[2]) )\n",
    "#     # break"
   ]
  },
  {
   "cell_type": "code",
   "execution_count": 32,
   "id": "73eb5c74-0bf5-47b6-aebd-2852ece19815",
   "metadata": {},
   "outputs": [
    {
     "data": {
      "text/plain": [
       "1107014"
      ]
     },
     "execution_count": 32,
     "metadata": {},
     "output_type": "execute_result"
    }
   ],
   "source": [
    "len(data)"
   ]
  },
  {
   "cell_type": "code",
   "execution_count": 21,
   "id": "40325ec2-f24f-4833-ad79-91961f358a05",
   "metadata": {},
   "outputs": [
    {
     "data": {
      "text/plain": [
       "55209"
      ]
     },
     "execution_count": 21,
     "metadata": {},
     "output_type": "execute_result"
    }
   ],
   "source": [
    "len(data)"
   ]
  },
  {
   "cell_type": "code",
   "execution_count": 4,
   "id": "3e639d20",
   "metadata": {},
   "outputs": [
    {
     "name": "stderr",
     "output_type": "stream",
     "text": [
      "/home/nikola_dev/miniconda3/envs/ssi/lib/python3.10/site-packages/tqdm/auto.py:21: TqdmWarning: IProgress not found. Please update jupyter and ipywidgets. See https://ipywidgets.readthedocs.io/en/stable/user_install.html\n",
      "  from .autonotebook import tqdm as notebook_tqdm\n"
     ]
    },
    {
     "name": "stdout",
     "output_type": "stream",
     "text": [
      "You are missing some of the libraries for ProteinVec\n",
      "You are missing some of the libraries for ESM3\n"
     ]
    }
   ],
   "source": [
    "# import os\n",
    "# import sys\n",
    "\n",
    "# current_dir = os.path.dirname(os.path.abspath(__file__)) if '__file__' in globals() else os.getcwd()\n",
    "# parent_dir = os.path.abspath(os.path.join(current_dir, os.pardir))\n",
    "# sibling_dir = os.path.join(parent_dir, 'src/embeddings')\n",
    "# sys.path.insert(0, sibling_dir)\n",
    "# sibling_dir = os.path.join(parent_dir, 'src')\n",
    "# sys.path.insert(0, sibling_dir)\n",
    "# import embedding_esm"
   ]
  },
  {
   "cell_type": "code",
   "execution_count": 5,
   "id": "caf5306b",
   "metadata": {},
   "outputs": [],
   "source": [
    "# esm_emb = embedding_esm.EsmEmbedding(esm_model_path=\"/home/nikola_dev/.cache/torch/hub/checkpoints/esm2_t6_8M_UR50D.pt\")"
   ]
  },
  {
   "cell_type": "code",
   "execution_count": 14,
   "id": "d94b8b08",
   "metadata": {},
   "outputs": [
    {
     "name": "stdout",
     "output_type": "stream",
     "text": [
      "/home/nikola_dev\n"
     ]
    }
   ],
   "source": [
    "from pathlib import Path\n",
    "user_home = str(Path.home())\n",
    "print(user_home)\n",
    "\n",
    "esm_model_path=f\"{user_home}/.cache/torch/hub/checkpoints/esm2_t6_8M_UR50D.pt\"\n",
    "model_data = torch.load(str(esm_model_path), map_location=\"cpu\")"
   ]
  },
  {
   "cell_type": "code",
   "execution_count": 16,
   "id": "0dd1f251-8ff7-4548-b10a-7d4dccc93f09",
   "metadata": {},
   "outputs": [
    {
     "name": "stdout",
     "output_type": "stream",
     "text": [
      "Using device: cuda\n"
     ]
    },
    {
     "name": "stderr",
     "output_type": "stream",
     "text": [
      "100%|██████████| 1/1 [00:00<00:00, 10.98it/s]\n"
     ]
    },
    {
     "name": "stdout",
     "output_type": "stream",
     "text": [
      "Epoch: 0, Loss: 0.7983145117759705\n"
     ]
    },
    {
     "name": "stderr",
     "output_type": "stream",
     "text": [
      "100%|██████████| 1/1 [00:00<00:00, 48.45it/s]\n"
     ]
    },
    {
     "name": "stdout",
     "output_type": "stream",
     "text": [
      "Epoch: 1, Loss: 0.6819889545440674\n"
     ]
    },
    {
     "name": "stderr",
     "output_type": "stream",
     "text": [
      "100%|██████████| 1/1 [00:00<00:00, 51.05it/s]\n"
     ]
    },
    {
     "name": "stdout",
     "output_type": "stream",
     "text": [
      "Epoch: 2, Loss: 0.8165532350540161\n"
     ]
    },
    {
     "name": "stderr",
     "output_type": "stream",
     "text": [
      "100%|██████████| 1/1 [00:00<00:00, 53.35it/s]\n"
     ]
    },
    {
     "name": "stdout",
     "output_type": "stream",
     "text": [
      "Epoch: 3, Loss: 0.6528562307357788\n"
     ]
    },
    {
     "name": "stderr",
     "output_type": "stream",
     "text": [
      "100%|██████████| 1/1 [00:00<00:00, 50.55it/s]\n"
     ]
    },
    {
     "name": "stdout",
     "output_type": "stream",
     "text": [
      "Epoch: 4, Loss: 0.8061037063598633\n"
     ]
    },
    {
     "data": {
      "text/plain": [
       "ESM2(\n",
       "  (embed_tokens): Embedding(33, 320, padding_idx=1)\n",
       "  (layers): ModuleList(\n",
       "    (0-5): 6 x TransformerLayer(\n",
       "      (self_attn): MultiheadAttention(\n",
       "        (k_proj): Linear(in_features=320, out_features=320, bias=True)\n",
       "        (v_proj): Linear(in_features=320, out_features=320, bias=True)\n",
       "        (q_proj): Linear(in_features=320, out_features=320, bias=True)\n",
       "        (out_proj): Linear(in_features=320, out_features=320, bias=True)\n",
       "        (rot_emb): RotaryEmbedding()\n",
       "      )\n",
       "      (self_attn_layer_norm): LayerNorm((320,), eps=1e-05, elementwise_affine=True)\n",
       "      (fc1): Linear(in_features=320, out_features=1280, bias=True)\n",
       "      (fc2): Linear(in_features=1280, out_features=320, bias=True)\n",
       "      (final_layer_norm): LayerNorm((320,), eps=1e-05, elementwise_affine=True)\n",
       "    )\n",
       "  )\n",
       "  (contact_head): ContactPredictionHead(\n",
       "    (regression): Linear(in_features=120, out_features=1, bias=True)\n",
       "    (activation): Sigmoid()\n",
       "  )\n",
       "  (emb_layer_norm_after): LayerNorm((320,), eps=1e-05, elementwise_affine=True)\n",
       "  (lm_head): RobertaLMHead(\n",
       "    (dense): Linear(in_features=320, out_features=320, bias=True)\n",
       "    (layer_norm): LayerNorm((320,), eps=1e-05, elementwise_affine=True)\n",
       "  )\n",
       ")"
      ]
     },
     "execution_count": 16,
     "metadata": {},
     "output_type": "execute_result"
    }
   ],
   "source": [
    "import torch\n",
    "import esm\n",
    "from torch import nn, optim\n",
    "from torch.utils.data import DataLoader, TensorDataset\n",
    "import random\n",
    "import pandas as pd\n",
    "\n",
    "\n",
    "# Check if a GPU is available, otherwise use CPU\n",
    "device = torch.device(\"cuda\" if torch.cuda.is_available() else \"cpu\")\n",
    "print(f'Using device: {device}')\n",
    "# Load the pre-trained ESM-2 model and its alphabet\n",
    "# model, alphabet = esm.pretrained.esm2_t33_650M_UR50D()\n",
    "model, alphabet = esm.pretrained.esm2_t6_8M_UR50D()\n",
    "# cuz changed in EsmEmbedding\n",
    "model = model.to(device)\n",
    "batch_converter = alphabet.get_batch_converter()\n",
    "\n",
    "# Convert the data to batch format\n",
    "batch_labels, batch_strs, batch_tokens = batch_converter(data)\n",
    "\n",
    "# Prepare a dataset and dataloader for batching\n",
    "dataset = TensorDataset(batch_tokens)\n",
    "batch_size = 4\n",
    "dataloader = DataLoader(dataset, batch_size=batch_size, shuffle=True)\n",
    "\n",
    "# Define a loss function and optimizer\n",
    "criterion = nn.CrossEntropyLoss(ignore_index=alphabet.padding_idx)\n",
    "optimizer = optim.Adam(model.parameters(), lr=1e-5)\n",
    "\n",
    "# Masking function\n",
    "def mask_tokens(tokens, mask_idx, pad_idx, mask_prob=0.15):\n",
    "    labels = tokens.clone()\n",
    "    masked_tokens = tokens.clone()\n",
    "\n",
    "    # Create a mask based on the probability\n",
    "    mask = (torch.rand(tokens.shape) < mask_prob) & (tokens != pad_idx)\n",
    "\n",
    "    # Replace masked positions with the mask index\n",
    "    masked_tokens[mask] = mask_idx\n",
    "\n",
    "    return masked_tokens, labels\n",
    "\n",
    "# Enable training mode\n",
    "model.train()\n",
    "\n",
    "# Fine-tuning loop\n",
    "num_epochs = 5\n",
    "mask_idx = alphabet.mask_idx# torch.tensor(alphabet.mask_idx).to(device)\n",
    "pad_idx = alphabet.padding_idx #torch.tensor(alphabet.padding_idx).to(device)\n",
    "\n",
    "for epoch in range(num_epochs):\n",
    "    for batch in tqdm(dataloader):\n",
    "        batch_tokens = batch[0]\n",
    "        optimizer.zero_grad()\n",
    "\n",
    "        # Mask tokens\n",
    "        masked_tokens, labels = mask_tokens(batch_tokens, mask_idx, pad_idx)\n",
    "        masked_tokens = masked_tokens.to(device)\n",
    "        labels = labels.to(device)  # Move labels to GPU\n",
    "\n",
    "        # Forward pass: get the output from the model\n",
    "        # with torch.no_grad():\n",
    "        output = model(masked_tokens, repr_layers=[33])\n",
    "        logits = output[\"logits\"]\n",
    "        # Take the argmax of the logits to get the predicted amino acids\n",
    "        # predictions = torch.argmax(logits, dim=-1)\n",
    "        \n",
    "        # print(logits.size(), labels.size())\n",
    "        # print(logits.view(-1, logits.size(-1)).size(), labels.view(-1).size())\n",
    "        # Compute loss for masked language modeling\n",
    "        # argmax on 33 size vector (size of vocabulary) is performed inside CrossEntropyLoss function\n",
    "        loss = criterion(logits.view(-1, logits.size(-1)), labels.view(-1))  \n",
    "        loss.backward()\n",
    "        optimizer.step()\n",
    "        \n",
    "    print(f\"Epoch: {epoch}, Loss: {loss.item()}\")\n",
    "\n",
    "# Save the fine-tuned model\n",
    "# torch.save(model.state_dict(), \"fine_tuned_esm2_masked_model.pth\")\n",
    "torch.save({\n",
    "    \"model\": model.state_dict(),\n",
    "    \"args\": model_data['args'],\n",
    "    \"cfg\": model_data['cfg']\n",
    "},\n",
    "\"esm2_ft.pt\")\n",
    "\n",
    "# Switch back to evaluation mode after fine-tuning\n",
    "model.eval()"
   ]
  },
  {
   "cell_type": "code",
   "execution_count": 17,
   "id": "659e6ce3-0e6d-4131-ab3e-e74f433b2b98",
   "metadata": {},
   "outputs": [],
   "source": [
    "ft_model_path = \"esm2_ft.pt\"\n",
    "model, alphabet = esm.pretrained.load_model_and_alphabet(ft_model_path)"
   ]
  },
  {
   "cell_type": "code",
   "execution_count": 19,
   "id": "50ad2bb3",
   "metadata": {},
   "outputs": [
    {
     "data": {
      "text/plain": [
       "<esm.data.Alphabet at 0x7545a803ed70>"
      ]
     },
     "execution_count": 19,
     "metadata": {},
     "output_type": "execute_result"
    }
   ],
   "source": []
  }
 ],
 "metadata": {
  "kernelspec": {
   "display_name": "Python 3 (ipykernel)",
   "language": "python",
   "name": "python3"
  },
  "language_info": {
   "codemirror_mode": {
    "name": "ipython",
    "version": 3
   },
   "file_extension": ".py",
   "mimetype": "text/x-python",
   "name": "python",
   "nbconvert_exporter": "python",
   "pygments_lexer": "ipython3",
   "version": "3.10.12"
  }
 },
 "nbformat": 4,
 "nbformat_minor": 5
}
