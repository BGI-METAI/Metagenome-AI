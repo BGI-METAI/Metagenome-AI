{
 "cells": [
  {
   "cell_type": "code",
   "execution_count": 2,
   "id": "fd999172",
   "metadata": {},
   "outputs": [
    {
     "name": "stderr",
     "output_type": "stream",
     "text": [
      "/Users/vladimirk/opt/anaconda3/lib/python3.9/site-packages/pandas/core/computation/expressions.py:21: UserWarning: Pandas requires version '2.8.4' or newer of 'numexpr' (version '2.8.1' currently installed).\n",
      "  from pandas.core.computation.check import NUMEXPR_INSTALLED\n",
      "/Users/vladimirk/opt/anaconda3/lib/python3.9/site-packages/pandas/core/arrays/masked.py:60: UserWarning: Pandas requires version '1.3.6' or newer of 'bottleneck' (version '1.3.4' currently installed).\n",
      "  from pandas.core import (\n"
     ]
    }
   ],
   "source": [
    "import pandas as pd\n",
    "from Bio import SeqIO\n",
    "import csv\n",
    "from sklearn.model_selection import train_test_split\n",
    "import numpy as np"
   ]
  },
  {
   "cell_type": "markdown",
   "id": "ec60e0cf",
   "metadata": {},
   "source": [
    "# New merge toxicity"
   ]
  },
  {
   "cell_type": "code",
   "execution_count": 13,
   "id": "ba7841e9",
   "metadata": {},
   "outputs": [
    {
     "name": "stdout",
     "output_type": "stream",
     "text": [
      "FASTA file '../data/tox/merged_nontoxic_peptides.fa' has been converted to CSV file '../data/tox/merged_nontoxic_peptides.tsv'\n",
      "FASTA file '../data/tox/merged_toxic_peptides.fa' has been converted to CSV file '../data/tox/merged_toxic_peptides.tsv'\n"
     ]
    }
   ],
   "source": [
    "\n",
    "# Specify the input FASTA file and output CSV file\n",
    "fasta_files = ['../data/tox/merged_nontoxic_peptides.fa', '../data/tox/merged_toxic_peptides.fa']\n",
    "for label, input_fasta in enumerate(fasta_files):\n",
    "    output_csv = input_fasta.replace('.fa', '.tsv')\n",
    "\n",
    "    # Open the output CSV file\n",
    "    with open(output_csv, \"w\", newline='') as csvfile:\n",
    "        # Create a CSV writer object\n",
    "        csv_writer = csv.writer(csvfile, delimiter='\\t')\n",
    "\n",
    "        # Write the header row\n",
    "#         csv_writer.writerow([\"ID\", \"Length\", \"Sequence\", \"Target\"])\n",
    "\n",
    "        # Parse the FASTA file and write each record to the CSV\n",
    "        for record in SeqIO.parse(input_fasta, \"fasta\"):\n",
    "            seq_len = len(str(record.seq))\n",
    "            seq_id = record.id.split(',')[0].split(';')[0]\n",
    "            csv_writer.writerow([seq_id, seq_len, str(record.seq).upper(), str(label)])\n",
    "\n",
    "    print(f\"FASTA file '{input_fasta}' has been converted to CSV file '{output_csv}'\")\n",
    "list_fasta = ' '.join([input_fasta.replace('.fa', '.tsv') for input_fasta in fasta_files])\n",
    "out_fname = '../data/tox/tox_merged_all.tsv'\n",
    "!cat {list_fasta} > {out_fname}"
   ]
  },
  {
   "cell_type": "code",
   "execution_count": 14,
   "id": "daaddffe",
   "metadata": {},
   "outputs": [],
   "source": [
    "df = pd.read_csv(out_fname, sep='\\t', header=None)\n",
    "\n",
    "# Assume the last column is the target variable\n",
    "X = df.iloc[:, :-1]\n",
    "y = df.iloc[:, -1]\n",
    "\n",
    "# Perform the 80-20 split first\n",
    "X_train, X_temp, y_train, y_temp = train_test_split(X, y, test_size=0.2, stratify=y, random_state=42)\n",
    "\n",
    "# Split the remaining 20% into validation and test sets (10% each of the original data)\n",
    "X_val, X_test, y_val, y_test = train_test_split(X_temp, y_temp, test_size=0.5, stratify=y_temp, random_state=42)\n",
    "\n",
    "# Combine X and y for each set and save to TSV files\n",
    "train_df = pd.concat([X_train, y_train], axis=1)\n",
    "val_df = pd.concat([X_val, y_val], axis=1)\n",
    "test_df = pd.concat([X_test, y_test], axis=1)\n",
    "\n",
    "# Write to TSV files\n",
    "train_df.to_csv('../data/tox/tox_train.tsv', sep='\\t', index=False, header=False)\n",
    "val_df.to_csv('../data/tox/tox_validation.tsv', sep='\\t', index=False, header=False)\n",
    "test_df.to_csv('../data/tox/tox_test.tsv', sep='\\t', index=False, header=False)"
   ]
  },
  {
   "cell_type": "markdown",
   "id": "48c51c48",
   "metadata": {},
   "source": [
    "# AMP New 2024_08_09"
   ]
  },
  {
   "cell_type": "code",
   "execution_count": 40,
   "id": "dba7797e",
   "metadata": {},
   "outputs": [
    {
     "name": "stdout",
     "output_type": "stream",
     "text": [
      "FASTA file '../data/AMP_new/final_uniprotkb_nonAMP_2024_08_09.fa'' has been converted to TSV file '../data/AMP_new/final_uniprotkb_nonAMP_2024_08_09.tsv' with 30205 lines.\n",
      "FASTA file '../data/AMP_new/final_AMP.fa'' has been converted to TSV file '../data/AMP_new/final_AMP.tsv' with 25004 lines.\n",
      "FASTA file '../data/AMP_new/final_AMP.fa'' has been converted to TSV file '../data/AMP_new/final_AMP_anti_Gram-.tsv' with 15288 lines.\n",
      "FASTA file '../data/AMP_new/final_AMP.fa'' has been converted to TSV file '../data/AMP_new/final_AMP_anti_Gram+.tsv' with 14864 lines.\n",
      "FASTA file '../data/AMP_new/final_AMP.fa'' has been converted to TSV file '../data/AMP_new/final_AMP_antifungal.tsv' with 6305 lines.\n",
      "FASTA file '../data/AMP_new/final_AMP.fa'' has been converted to TSV file '../data/AMP_new/final_AMP_antiviral.tsv' with 2499 lines.\n"
     ]
    }
   ],
   "source": [
    "# Specify the input FASTA file and output CSV file\n",
    "fasta_files = ['../data/AMP_new/final_uniprotkb_nonAMP_2024_08_09.fa', '../data/AMP_new/final_AMP.fa']\n",
    "all_labels = {2: 'anti_Gram-', 3: 'anti_Gram+', 4: 'antifungal', 5: 'antiviral'}\n",
    "\n",
    "for k, v in all_labels.items():\n",
    "    fasta_files.append(fasta_files[-1])\n",
    "\n",
    "for label, input_fasta in enumerate(fasta_files):\n",
    "    output_csv = input_fasta.replace('.fa', '.tsv') if label < 2 \\\n",
    "    else input_fasta.replace('.fa', f'_{all_labels[label]}.tsv')\n",
    "\n",
    "    # Open the output CSV file\n",
    "    num_lines = 0\n",
    "    with open(output_csv, \"w\", newline='') as csvfile:\n",
    "        # Create a CSV writer object\n",
    "        csv_writer = csv.writer(csvfile, delimiter='\\t')\n",
    "\n",
    "        # Parse the FASTA file and write each record to the CSV\n",
    "        for record in SeqIO.parse(input_fasta, \"fasta\"):\n",
    "            seq_len = len(str(record.seq))\n",
    "            seq_id = record.id.split(',')[0].split(';')[0]\n",
    "            \n",
    "#             if label > 1:\n",
    "#                 print(record.description)\n",
    "            if ((label < 2) or (all_labels[label] in record.description)) and (seq_len >=8) and (seq_len <= 100):\n",
    "                csv_writer.writerow([seq_id, seq_len, str(record.seq).upper(), str(1 if label > 0 else 0)])\n",
    "                num_lines += 1\n",
    "\n",
    "    print(f\"FASTA file '{input_fasta}'' has been converted to TSV file '{output_csv}' with {num_lines} lines.\")\n"
   ]
  },
  {
   "cell_type": "code",
   "execution_count": 43,
   "id": "d0f12dbc",
   "metadata": {},
   "outputs": [
    {
     "name": "stdout",
     "output_type": "stream",
     "text": [
      "   45493 ../data/AMP_new/AMP_2024_09_13_anti_Gram-.tsv\n",
      "   45069 ../data/AMP_new/AMP_2024_09_13_anti_Gram+.tsv\n",
      "   36510 ../data/AMP_new/AMP_2024_09_13_antifungal.tsv\n",
      "   32704 ../data/AMP_new/AMP_2024_09_13_antiviral.tsv\n",
      "   55209 ../data/AMP_new/AMP_2024_09_13_.tsv\n"
     ]
    }
   ],
   "source": [
    "all_labels[1] = ''\n",
    "for label, sufix in all_labels.items():\n",
    "    input_tsv_active = input_fasta.replace('.fa', '.tsv') if label < 2 \\\n",
    "    else input_fasta.replace('.fa', f'_{all_labels[label]}.tsv')\n",
    "    input_tsv_non_active = fasta_files[0].replace('.fa', '.tsv')\n",
    "    list_fasta = ' '.join([input_tsv_non_active, input_tsv_active])\n",
    "    out_tsv = f'../data/AMP_new/AMP_2024_09_13_{sufix}.tsv'\n",
    "    !cat {list_fasta} > {out_tsv}\n",
    "    !wc -l {out_tsv}"
   ]
  },
  {
   "cell_type": "code",
   "execution_count": 38,
   "id": "e7286c78",
   "metadata": {},
   "outputs": [],
   "source": [
    "df = pd.read_csv(out_fname, sep='\\t', header=None)\n",
    "\n",
    "# Assume the last column is the target variable\n",
    "X = df.iloc[:, :-1]\n",
    "y = df.iloc[:, -1]\n",
    "\n",
    "# Perform the 80-20 split first\n",
    "X_train, X_temp, y_train, y_temp = train_test_split(X, y, test_size=0.2, stratify=y, random_state=42)\n",
    "\n",
    "# Split the remaining 20% into validation and test sets (10% each of the original data)\n",
    "X_val, X_test, y_val, y_test = train_test_split(X_temp, y_temp, test_size=0.5, stratify=y_temp, random_state=42)\n",
    "\n",
    "# Combine X and y for each set and save to TSV files\n",
    "train_df = pd.concat([X_train, y_train], axis=1)\n",
    "val_df = pd.concat([X_val, y_val], axis=1)\n",
    "test_df = pd.concat([X_test, y_test], axis=1)\n",
    "\n",
    "# Write to TSV files\n",
    "train_df.to_csv('../data/AMP_new/AMP_2024_08_09_train.tsv', sep='\\t', index=False, header=False)\n",
    "val_df.to_csv('../data/AMP_new/AMP_2024_08_09_validation.tsv', sep='\\t', index=False, header=False)\n",
    "test_df.to_csv('../data/AMP_new/AMP_2024_08_09_test.tsv', sep='\\t', index=False, header=False)"
   ]
  },
  {
   "cell_type": "code",
   "execution_count": null,
   "id": "9fc23b54",
   "metadata": {},
   "outputs": [],
   "source": []
  }
 ],
 "metadata": {
  "kernelspec": {
   "display_name": "Python 3 (ipykernel)",
   "language": "python",
   "name": "python3"
  },
  "language_info": {
   "codemirror_mode": {
    "name": "ipython",
    "version": 3
   },
   "file_extension": ".py",
   "mimetype": "text/x-python",
   "name": "python",
   "nbconvert_exporter": "python",
   "pygments_lexer": "ipython3",
   "version": "3.9.12"
  }
 },
 "nbformat": 4,
 "nbformat_minor": 5
}
