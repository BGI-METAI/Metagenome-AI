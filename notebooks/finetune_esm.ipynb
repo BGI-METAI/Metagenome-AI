{
 "cells": [
  {
   "cell_type": "code",
   "execution_count": 7,
   "id": "c4bc1bce-bd71-438f-955b-8f33b4041774",
   "metadata": {},
   "outputs": [],
   "source": [
    "import torch\n",
    "import esm\n",
    "from torch import nn, optim\n",
    "import random"
   ]
  },
  {
   "cell_type": "code",
   "execution_count": 23,
   "id": "0dd1f251-8ff7-4548-b10a-7d4dccc93f09",
   "metadata": {},
   "outputs": [
    {
     "name": "stdout",
     "output_type": "stream",
     "text": [
      "Epoch: 0, Loss: 1.2193660736083984\n",
      "Epoch: 1, Loss: 1.3682093620300293\n",
      "Epoch: 2, Loss: 1.2818315029144287\n",
      "Epoch: 3, Loss: 1.0532981157302856\n",
      "Epoch: 4, Loss: 1.2930711507797241\n",
      "Epoch: 5, Loss: 1.1215124130249023\n",
      "Epoch: 6, Loss: 1.273398518562317\n",
      "Epoch: 7, Loss: 0.9323391318321228\n",
      "Epoch: 8, Loss: 1.2231507301330566\n",
      "Epoch: 9, Loss: 1.173543930053711\n",
      "Epoch: 10, Loss: 1.046103596687317\n",
      "Epoch: 11, Loss: 0.8925619125366211\n",
      "Epoch: 12, Loss: 1.120326280593872\n",
      "Epoch: 13, Loss: 1.0627635717391968\n",
      "Epoch: 14, Loss: 0.972506046295166\n",
      "Epoch: 15, Loss: 1.1718634366989136\n",
      "Epoch: 16, Loss: 1.0267871618270874\n",
      "Epoch: 17, Loss: 1.0471450090408325\n",
      "Epoch: 18, Loss: 0.978630006313324\n",
      "Epoch: 19, Loss: 0.8714840412139893\n",
      "Epoch: 20, Loss: 0.9836001396179199\n",
      "Epoch: 21, Loss: 0.8305772542953491\n",
      "Epoch: 22, Loss: 1.0646620988845825\n",
      "Epoch: 23, Loss: 1.001206636428833\n",
      "Epoch: 24, Loss: 0.8528508543968201\n",
      "Epoch: 25, Loss: 1.0158283710479736\n",
      "Epoch: 26, Loss: 1.1392499208450317\n",
      "Epoch: 27, Loss: 0.9566947221755981\n",
      "Epoch: 28, Loss: 0.9901305437088013\n",
      "Epoch: 29, Loss: 0.9025387763977051\n"
     ]
    },
    {
     "data": {
      "text/plain": [
       "ESM2(\n",
       "  (embed_tokens): Embedding(33, 320, padding_idx=1)\n",
       "  (layers): ModuleList(\n",
       "    (0-5): 6 x TransformerLayer(\n",
       "      (self_attn): MultiheadAttention(\n",
       "        (k_proj): Linear(in_features=320, out_features=320, bias=True)\n",
       "        (v_proj): Linear(in_features=320, out_features=320, bias=True)\n",
       "        (q_proj): Linear(in_features=320, out_features=320, bias=True)\n",
       "        (out_proj): Linear(in_features=320, out_features=320, bias=True)\n",
       "        (rot_emb): RotaryEmbedding()\n",
       "      )\n",
       "      (self_attn_layer_norm): LayerNorm((320,), eps=1e-05, elementwise_affine=True)\n",
       "      (fc1): Linear(in_features=320, out_features=1280, bias=True)\n",
       "      (fc2): Linear(in_features=1280, out_features=320, bias=True)\n",
       "      (final_layer_norm): LayerNorm((320,), eps=1e-05, elementwise_affine=True)\n",
       "    )\n",
       "  )\n",
       "  (contact_head): ContactPredictionHead(\n",
       "    (regression): Linear(in_features=120, out_features=1, bias=True)\n",
       "    (activation): Sigmoid()\n",
       "  )\n",
       "  (emb_layer_norm_after): LayerNorm((320,), eps=1e-05, elementwise_affine=True)\n",
       "  (lm_head): RobertaLMHead(\n",
       "    (dense): Linear(in_features=320, out_features=320, bias=True)\n",
       "    (layer_norm): LayerNorm((320,), eps=1e-05, elementwise_affine=True)\n",
       "  )\n",
       ")"
      ]
     },
     "execution_count": 23,
     "metadata": {},
     "output_type": "execute_result"
    }
   ],
   "source": [
    "# Load the pre-trained ESM-2 model and its alphabet\n",
    "# model, alphabet = esm.pretrained.esm2_t33_650M_UR50D()\n",
    "model, alphabet = esm.pretrained.esm2_t6_8M_UR50D()\n",
    "\n",
    "batch_converter = alphabet.get_batch_converter()\n",
    "\n",
    "# Set the model to evaluation mode initially\n",
    "model.eval()\n",
    "\n",
    "# Example data: list of tuples (label, sequence)\n",
    "data = [\n",
    "    (\"protein1\", \"MKTAYIAKQRQISFVKSHFSRQDILDLWIYHTQGYFPQYKGSGRTQY\"),\n",
    "    (\"protein2\", \"GIEVVVNATLDKAGFQAGYIGFLKTFTLGVAGSGLLGGTYTQAGG\"),\n",
    "    # Add more sequences here\n",
    "]\n",
    "\n",
    "# Convert the data to batch format\n",
    "batch_labels, batch_strs, batch_tokens = batch_converter(data)\n",
    "\n",
    "# Define a loss function and optimizer\n",
    "criterion = nn.CrossEntropyLoss()\n",
    "optimizer = optim.Adam(model.parameters(), lr=1e-5)\n",
    "\n",
    "# Masking function\n",
    "def mask_tokens(tokens, mask_idx, pad_idx, mask_prob=0.15):\n",
    "    labels = tokens.clone()\n",
    "    masked_tokens = tokens.clone()\n",
    "\n",
    "    # Create a mask based on the probability\n",
    "    mask = (torch.rand(tokens.shape) < mask_prob) & (tokens != pad_idx)\n",
    "\n",
    "    # Replace masked positions with the mask index\n",
    "    masked_tokens[mask] = mask_idx\n",
    "\n",
    "    return masked_tokens, labels\n",
    "\n",
    "# Enable training mode\n",
    "model.train()\n",
    "\n",
    "# Fine-tuning loop\n",
    "num_epochs = 30\n",
    "mask_idx = alphabet.mask_idx\n",
    "pad_idx = alphabet.padding_idx\n",
    "\n",
    "for epoch in range(num_epochs):\n",
    "    optimizer.zero_grad()\n",
    "\n",
    "    # Mask tokens\n",
    "    masked_tokens, labels = mask_tokens(batch_tokens, mask_idx, pad_idx)\n",
    "\n",
    "    # Forward pass: get the output from the model\n",
    "    output = model(masked_tokens)  # , repr_layers=[num_layers]\n",
    "    logits = output[\"logits\"]\n",
    "\n",
    "    # Compute loss for masked language modeling\n",
    "    loss = criterion(logits.view(-1, logits.size(-1)), labels.view(-1))\n",
    "    loss.backward()\n",
    "    optimizer.step()\n",
    "\n",
    "    print(f\"Epoch: {epoch}, Loss: {loss.item()}\")\n",
    "\n",
    "# Save the fine-tuned model\n",
    "torch.save(model.state_dict(), \"fine_tuned_esm2_masked_model.pth\")\n",
    "\n",
    "# Switch back to evaluation mode after fine-tuning\n",
    "model.eval()"
   ]
  },
  {
   "cell_type": "code",
   "execution_count": 16,
   "id": "1d01fd6d-a837-45cf-a204-7bfde8ce3c5a",
   "metadata": {},
   "outputs": [
    {
     "data": {
      "text/plain": [
       "tensor([[[ 14.6256,  -8.1990,  -5.8007,  ..., -15.5838, -15.7364,  -8.1972],\n",
       "         [ -8.7877, -15.7859,  -9.4309,  ..., -15.8601, -16.0910, -15.7822],\n",
       "         [-10.9809, -19.3192, -10.6574,  ..., -16.1523, -16.1474, -19.3129],\n",
       "         ...,\n",
       "         [-10.9388, -18.9534, -11.8980,  ..., -16.2301, -16.2017, -18.9448],\n",
       "         [-11.7391, -20.4840, -11.2705,  ..., -16.2578, -16.3088, -20.4812],\n",
       "         [ -6.1847,  -9.5217,  14.0999,  ..., -16.5717, -16.5293,  -9.5495]],\n",
       "\n",
       "        [[ 15.3362,  -7.9659,  -5.2758,  ..., -15.5773, -15.7481,  -7.9697],\n",
       "         [ -7.2720, -13.8548,  -6.5442,  ..., -15.7878, -15.9642, -13.8574],\n",
       "         [-10.3269, -16.9376, -10.1985,  ..., -16.0456, -15.8895, -16.9370],\n",
       "         ...,\n",
       "         [ -5.3700,  -7.8912,  16.4789,  ..., -16.5534, -16.4161,  -7.9517],\n",
       "         [ -7.6942, -12.6855,  -3.1495,  ..., -15.9508, -15.9348, -12.7032],\n",
       "         [ -7.4733, -13.0082,  -3.5302,  ..., -15.9532, -15.9346, -13.0273]]],\n",
       "       grad_fn=<AddBackward0>)"
      ]
     },
     "execution_count": 16,
     "metadata": {},
     "output_type": "execute_result"
    }
   ],
   "source": [
    "logits"
   ]
  },
  {
   "cell_type": "code",
   "execution_count": 17,
   "id": "e3d851d8-344b-4850-bd74-bc702f74bf00",
   "metadata": {},
   "outputs": [
    {
     "data": {
      "text/plain": [
       "torch.Size([2, 49, 33])"
      ]
     },
     "execution_count": 17,
     "metadata": {},
     "output_type": "execute_result"
    }
   ],
   "source": [
    "logits.size()"
   ]
  },
  {
   "cell_type": "code",
   "execution_count": 18,
   "id": "7b757fac-8763-4882-8ab6-e88dddfaec1b",
   "metadata": {},
   "outputs": [
    {
     "data": {
      "text/plain": [
       "torch.Size([2, 49])"
      ]
     },
     "execution_count": 18,
     "metadata": {},
     "output_type": "execute_result"
    }
   ],
   "source": [
    "labels.size()"
   ]
  },
  {
   "cell_type": "code",
   "execution_count": 20,
   "id": "3e153751-43e4-4d3c-a3c5-dbfb3d471fd8",
   "metadata": {},
   "outputs": [
    {
     "data": {
      "text/plain": [
       "tensor([[ 0, 20, 32, 11,  5, 19, 32, 32, 15, 16, 10, 16, 12,  8, 18,  7, 15,  8,\n",
       "         21, 32, 32, 10, 16, 13, 12,  4, 13,  4, 22, 12, 19, 21, 11, 16,  6, 19,\n",
       "         32, 14, 16, 19, 15, 32,  8, 32, 10, 11, 32, 19,  2],\n",
       "        [32,  6, 12,  9,  7,  7,  7, 32,  5, 32,  4, 13, 15,  5,  6, 18, 16,  5,\n",
       "          6, 32, 12,  6, 32,  4, 15, 11, 18, 11,  4,  6,  7,  5,  6, 32,  6,  4,\n",
       "          4,  6,  6, 11, 19, 11, 16,  5,  6,  6,  2,  1,  1]])"
      ]
     },
     "execution_count": 20,
     "metadata": {},
     "output_type": "execute_result"
    }
   ],
   "source": [
    "masked_tokens"
   ]
  },
  {
   "cell_type": "code",
   "execution_count": 21,
   "id": "4f065bea-8c35-42b2-aa83-a3799c35687c",
   "metadata": {},
   "outputs": [
    {
     "data": {
      "text/plain": [
       "32"
      ]
     },
     "execution_count": 21,
     "metadata": {},
     "output_type": "execute_result"
    }
   ],
   "source": [
    "mask_idx"
   ]
  },
  {
   "cell_type": "code",
   "execution_count": 22,
   "id": "11a19352-3a5c-4ade-8d16-30a2198b3385",
   "metadata": {},
   "outputs": [
    {
     "data": {
      "text/plain": [
       "1"
      ]
     },
     "execution_count": 22,
     "metadata": {},
     "output_type": "execute_result"
    }
   ],
   "source": [
    "pad_idx"
   ]
  },
  {
   "cell_type": "code",
   "execution_count": null,
   "id": "659e6ce3-0e6d-4131-ab3e-e74f433b2b98",
   "metadata": {},
   "outputs": [],
   "source": []
  }
 ],
 "metadata": {
  "kernelspec": {
   "display_name": "Python 3 (ipykernel)",
   "language": "python",
   "name": "python3"
  },
  "language_info": {
   "codemirror_mode": {
    "name": "ipython",
    "version": 3
   },
   "file_extension": ".py",
   "mimetype": "text/x-python",
   "name": "python",
   "nbconvert_exporter": "python",
   "pygments_lexer": "ipython3",
   "version": "3.10.14"
  }
 },
 "nbformat": 4,
 "nbformat_minor": 5
}
