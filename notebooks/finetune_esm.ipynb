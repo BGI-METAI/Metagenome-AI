{
 "cells": [
  {
   "cell_type": "code",
   "execution_count": 24,
   "id": "c4bc1bce-bd71-438f-955b-8f33b4041774",
   "metadata": {},
   "outputs": [],
   "source": [
    "import torch\n",
    "import esm\n",
    "from torch import nn, optim\n",
    "import random\n",
    "import pandas as pd\n",
    "from tqdm import tqdm"
   ]
  },
  {
   "cell_type": "code",
   "execution_count": 7,
   "id": "23ac18e0-84af-4db8-b3e4-2dc8dcab0308",
   "metadata": {},
   "outputs": [
    {
     "name": "stdout",
     "output_type": "stream",
     "text": [
      "NLEIPMFD_00006 93 MCIFLRRAVLGCSCNYVLFMEYRTSDIQIAALLYAEGIELVNVDSSNPRRKEFVFKDEQQISELVKGFWQDTHKIAPRKYMGAFRELKNKLYS 0\n",
      "NLEIPMFD_00010 86 MKYFVYLARCADGSLYTGSCTNIKAREIRHNKGEGAAFTYKRRPVKIVYFEEFKTLIEAMRREKQIKRWTRKKKENLVKYGHPTKF 0\n",
      "NLEIPMFD_00012 77 MVFNVKRSTYVILTSFQMGKGDLKEKVITKFAYSTPSVTLALPTLFQSKALSAEQMRKLHATIFSVIDPPTQEAVES 0\n",
      "NLEIPMFD_00013 71 MLMKGVQHKNPITPFGKIIMHCPDPTVLAISQAHLVPFLIQIFGQQQHLLFSPADVGSVRVKEDSHGSLND 0\n",
      "NLEIPMFD_00015 42 MLPVSCVLEDWNYSPNYLGGVSIKNAGVPGNMLQGQSLNPNS 1\n",
      "NLEIPMFD_00022 99 MEKLVNIVKRCLNHHKLGESAKASHVLFTAQQFLDKWFVGEKMMAKPVQLKNAVLWIGVRHPTIAQEFRGVSDKLLKELQTRFGPKLVQKIRTKHLTSI 0\n",
      "NLEIPMFD_00025 96 MRLLLESIGFKVLEASNARHALTLINTEKPDITLTDHMMPGELTGEQLARHLHERGLKVVLTSGYPIEEESCFQFIAKPPRIGVLTAVLKKELGIE 0\n",
      "NLEIPMFD_00029 95 MLDLTLRSKFLSPTTMIKEAVILKYGVVFTGKRHNVIFNSAQAMGLGFAGLRGGEQGFVTESGEFVNRRKAFEIALACGQIEEREKRKLFSEDLY 0\n",
      "NLEIPMFD_00030 46 MSISSPAIRISGSGQIVQVLPMMKSRVITKFMGFSYLSYRTVKLVL 1\n",
      "NLEIPMFD_00034 39 MEIPFIKVHPARLRAEEVLKDVIVQLKEMIEAGRIRNDL 1\n"
     ]
    }
   ],
   "source": [
    "!head ../data/mariana_to_100.tsv"
   ]
  },
  {
   "cell_type": "code",
   "execution_count": 31,
   "id": "eff09417-2451-48f2-a62f-5c4fac525128",
   "metadata": {},
   "outputs": [
    {
     "ename": "KeyboardInterrupt",
     "evalue": "",
     "output_type": "error",
     "traceback": [
      "\u001b[0;31m---------------------------------------------------------------------------\u001b[0m",
      "\u001b[0;31mKeyboardInterrupt\u001b[0m                         Traceback (most recent call last)",
      "Cell \u001b[0;32mIn[31], line 12\u001b[0m\n\u001b[1;32m     10\u001b[0m \u001b[38;5;28;01mfor\u001b[39;00m df_path,sep \u001b[38;5;129;01min\u001b[39;00m \u001b[38;5;28mzip\u001b[39m(df_paths, [\u001b[38;5;124m'\u001b[39m\u001b[38;5;130;01m\\t\u001b[39;00m\u001b[38;5;124m'\u001b[39m, \u001b[38;5;124m'\u001b[39m\u001b[38;5;124m \u001b[39m\u001b[38;5;124m'\u001b[39m]):\n\u001b[1;32m     11\u001b[0m     df \u001b[38;5;241m=\u001b[39m pd\u001b[38;5;241m.\u001b[39mread_csv(df_path, header\u001b[38;5;241m=\u001b[39m\u001b[38;5;28;01mNone\u001b[39;00m, sep\u001b[38;5;241m=\u001b[39msep)\n\u001b[0;32m---> 12\u001b[0m     \u001b[38;5;28;01mfor\u001b[39;00m ind, row \u001b[38;5;129;01min\u001b[39;00m df\u001b[38;5;241m.\u001b[39miterrows():\n\u001b[1;32m     13\u001b[0m         data\u001b[38;5;241m.\u001b[39mappend( (row[\u001b[38;5;241m0\u001b[39m], row[\u001b[38;5;241m2\u001b[39m]) )\n\u001b[1;32m     14\u001b[0m     \u001b[38;5;66;03m# break\u001b[39;00m\n",
      "File \u001b[0;32m~/miniconda3/envs/esm/lib/python3.10/site-packages/pandas/core/frame.py:1554\u001b[0m, in \u001b[0;36mDataFrame.iterrows\u001b[0;34m(self)\u001b[0m\n\u001b[1;32m   1552\u001b[0m using_cow \u001b[38;5;241m=\u001b[39m using_copy_on_write()\n\u001b[1;32m   1553\u001b[0m \u001b[38;5;28;01mfor\u001b[39;00m k, v \u001b[38;5;129;01min\u001b[39;00m \u001b[38;5;28mzip\u001b[39m(\u001b[38;5;28mself\u001b[39m\u001b[38;5;241m.\u001b[39mindex, \u001b[38;5;28mself\u001b[39m\u001b[38;5;241m.\u001b[39mvalues):\n\u001b[0;32m-> 1554\u001b[0m     s \u001b[38;5;241m=\u001b[39m \u001b[43mklass\u001b[49m\u001b[43m(\u001b[49m\u001b[43mv\u001b[49m\u001b[43m,\u001b[49m\u001b[43m \u001b[49m\u001b[43mindex\u001b[49m\u001b[38;5;241;43m=\u001b[39;49m\u001b[43mcolumns\u001b[49m\u001b[43m,\u001b[49m\u001b[43m \u001b[49m\u001b[43mname\u001b[49m\u001b[38;5;241;43m=\u001b[39;49m\u001b[43mk\u001b[49m\u001b[43m)\u001b[49m\u001b[38;5;241m.\u001b[39m__finalize__(\u001b[38;5;28mself\u001b[39m)\n\u001b[1;32m   1555\u001b[0m     \u001b[38;5;28;01mif\u001b[39;00m using_cow \u001b[38;5;129;01mand\u001b[39;00m \u001b[38;5;28mself\u001b[39m\u001b[38;5;241m.\u001b[39m_mgr\u001b[38;5;241m.\u001b[39mis_single_block:\n\u001b[1;32m   1556\u001b[0m         s\u001b[38;5;241m.\u001b[39m_mgr\u001b[38;5;241m.\u001b[39madd_references(\u001b[38;5;28mself\u001b[39m\u001b[38;5;241m.\u001b[39m_mgr)  \u001b[38;5;66;03m# type: ignore[arg-type]\u001b[39;00m\n",
      "File \u001b[0;32m~/miniconda3/envs/esm/lib/python3.10/site-packages/pandas/core/series.py:594\u001b[0m, in \u001b[0;36mSeries.__init__\u001b[0;34m(self, data, index, dtype, name, copy, fastpath)\u001b[0m\n\u001b[1;32m    592\u001b[0m NDFrame\u001b[38;5;241m.\u001b[39m\u001b[38;5;21m__init__\u001b[39m(\u001b[38;5;28mself\u001b[39m, data)\n\u001b[1;32m    593\u001b[0m \u001b[38;5;28mself\u001b[39m\u001b[38;5;241m.\u001b[39mname \u001b[38;5;241m=\u001b[39m name\n\u001b[0;32m--> 594\u001b[0m \u001b[38;5;28;43mself\u001b[39;49m\u001b[38;5;241;43m.\u001b[39;49m\u001b[43m_set_axis\u001b[49m\u001b[43m(\u001b[49m\u001b[38;5;241;43m0\u001b[39;49m\u001b[43m,\u001b[49m\u001b[43m \u001b[49m\u001b[43mindex\u001b[49m\u001b[43m)\u001b[49m\n\u001b[1;32m    596\u001b[0m \u001b[38;5;28;01mif\u001b[39;00m original_dtype \u001b[38;5;129;01mis\u001b[39;00m \u001b[38;5;28;01mNone\u001b[39;00m \u001b[38;5;129;01mand\u001b[39;00m is_pandas_object \u001b[38;5;129;01mand\u001b[39;00m data_dtype \u001b[38;5;241m==\u001b[39m np\u001b[38;5;241m.\u001b[39mobject_:\n\u001b[1;32m    597\u001b[0m     \u001b[38;5;28;01mif\u001b[39;00m \u001b[38;5;28mself\u001b[39m\u001b[38;5;241m.\u001b[39mdtype \u001b[38;5;241m!=\u001b[39m data_dtype:\n",
      "File \u001b[0;32m~/miniconda3/envs/esm/lib/python3.10/site-packages/pandas/core/generic.py:814\u001b[0m, in \u001b[0;36mNDFrame._set_axis\u001b[0;34m(self, axis, labels)\u001b[0m\n\u001b[1;32m    809\u001b[0m \u001b[38;5;250m\u001b[39m\u001b[38;5;124;03m\"\"\"\u001b[39;00m\n\u001b[1;32m    810\u001b[0m \u001b[38;5;124;03mThis is called from the cython code when we set the `index` attribute\u001b[39;00m\n\u001b[1;32m    811\u001b[0m \u001b[38;5;124;03mdirectly, e.g. `series.index = [1, 2, 3]`.\u001b[39;00m\n\u001b[1;32m    812\u001b[0m \u001b[38;5;124;03m\"\"\"\u001b[39;00m\n\u001b[1;32m    813\u001b[0m labels \u001b[38;5;241m=\u001b[39m ensure_index(labels)\n\u001b[0;32m--> 814\u001b[0m \u001b[38;5;28;43mself\u001b[39;49m\u001b[38;5;241;43m.\u001b[39;49m\u001b[43m_mgr\u001b[49m\u001b[38;5;241;43m.\u001b[39;49m\u001b[43mset_axis\u001b[49m\u001b[43m(\u001b[49m\u001b[43maxis\u001b[49m\u001b[43m,\u001b[49m\u001b[43m \u001b[49m\u001b[43mlabels\u001b[49m\u001b[43m)\u001b[49m\n\u001b[1;32m    815\u001b[0m \u001b[38;5;28mself\u001b[39m\u001b[38;5;241m.\u001b[39m_clear_item_cache()\n",
      "File \u001b[0;32m~/miniconda3/envs/esm/lib/python3.10/site-packages/pandas/core/internals/managers.py:238\u001b[0m, in \u001b[0;36mBaseBlockManager.set_axis\u001b[0;34m(self, axis, new_labels)\u001b[0m\n\u001b[1;32m    236\u001b[0m \u001b[38;5;28;01mdef\u001b[39;00m \u001b[38;5;21mset_axis\u001b[39m(\u001b[38;5;28mself\u001b[39m, axis: AxisInt, new_labels: Index) \u001b[38;5;241m-\u001b[39m\u001b[38;5;241m>\u001b[39m \u001b[38;5;28;01mNone\u001b[39;00m:\n\u001b[1;32m    237\u001b[0m     \u001b[38;5;66;03m# Caller is responsible for ensuring we have an Index object.\u001b[39;00m\n\u001b[0;32m--> 238\u001b[0m     \u001b[38;5;28;43mself\u001b[39;49m\u001b[38;5;241;43m.\u001b[39;49m\u001b[43m_validate_set_axis\u001b[49m\u001b[43m(\u001b[49m\u001b[43maxis\u001b[49m\u001b[43m,\u001b[49m\u001b[43m \u001b[49m\u001b[43mnew_labels\u001b[49m\u001b[43m)\u001b[49m\n\u001b[1;32m    239\u001b[0m     \u001b[38;5;28mself\u001b[39m\u001b[38;5;241m.\u001b[39maxes[axis] \u001b[38;5;241m=\u001b[39m new_labels\n",
      "File \u001b[0;32m~/miniconda3/envs/esm/lib/python3.10/site-packages/pandas/core/internals/base.py:92\u001b[0m, in \u001b[0;36mDataManager._validate_set_axis\u001b[0;34m(self, axis, new_labels)\u001b[0m\n\u001b[1;32m     89\u001b[0m old_len \u001b[38;5;241m=\u001b[39m \u001b[38;5;28mlen\u001b[39m(\u001b[38;5;28mself\u001b[39m\u001b[38;5;241m.\u001b[39maxes[axis])\n\u001b[1;32m     90\u001b[0m new_len \u001b[38;5;241m=\u001b[39m \u001b[38;5;28mlen\u001b[39m(new_labels)\n\u001b[0;32m---> 92\u001b[0m \u001b[38;5;28;01mif\u001b[39;00m axis \u001b[38;5;241m==\u001b[39m \u001b[38;5;241m1\u001b[39m \u001b[38;5;129;01mand\u001b[39;00m \u001b[38;5;28mlen\u001b[39m(\u001b[38;5;28mself\u001b[39m\u001b[38;5;241m.\u001b[39mitems) \u001b[38;5;241m==\u001b[39m \u001b[38;5;241m0\u001b[39m:\n\u001b[1;32m     93\u001b[0m     \u001b[38;5;66;03m# If we are setting the index on a DataFrame with no columns,\u001b[39;00m\n\u001b[1;32m     94\u001b[0m     \u001b[38;5;66;03m#  it is OK to change the length.\u001b[39;00m\n\u001b[1;32m     95\u001b[0m     \u001b[38;5;28;01mpass\u001b[39;00m\n\u001b[1;32m     97\u001b[0m \u001b[38;5;28;01melif\u001b[39;00m new_len \u001b[38;5;241m!=\u001b[39m old_len:\n",
      "\u001b[0;31mKeyboardInterrupt\u001b[0m: "
     ]
    }
   ],
   "source": [
    "# Example data: list of tuples (label, sequence)\n",
    "data = [\n",
    "    (\"protein1\", \"MKTAYIAKQRQISFVKSHFSRQDILDLWIYHTQGYFPQYKGSGRTQY\"),\n",
    "    (\"protein2\", \"GIEVVVNATLDKAGFQAGYIGFLKTFTLGVAGSGLLGGTY\"),\n",
    "    # Add more sequences here\n",
    "]\n",
    "\n",
    "data = list()\n",
    "df_paths = ['../data/AMP_new/AMP_2024_08_09.tsv', '../data/mariana_to_100.tsv']\n",
    "for df_path,sep in zip(df_paths, ['\\t', ' ']):\n",
    "    df = pd.read_csv(df_path, header=None, sep=sep)\n",
    "    for ind, row in df.iterrows():\n",
    "        data.append( (row[0], row[2]) )\n",
    "    # break"
   ]
  },
  {
   "cell_type": "code",
   "execution_count": 32,
   "id": "73eb5c74-0bf5-47b6-aebd-2852ece19815",
   "metadata": {},
   "outputs": [
    {
     "data": {
      "text/plain": [
       "1107014"
      ]
     },
     "execution_count": 32,
     "metadata": {},
     "output_type": "execute_result"
    }
   ],
   "source": [
    "len(data)"
   ]
  },
  {
   "cell_type": "code",
   "execution_count": 21,
   "id": "40325ec2-f24f-4833-ad79-91961f358a05",
   "metadata": {},
   "outputs": [
    {
     "data": {
      "text/plain": [
       "55209"
      ]
     },
     "execution_count": 21,
     "metadata": {},
     "output_type": "execute_result"
    }
   ],
   "source": [
    "len(data)"
   ]
  },
  {
   "cell_type": "code",
   "execution_count": null,
   "id": "0dd1f251-8ff7-4548-b10a-7d4dccc93f09",
   "metadata": {},
   "outputs": [],
   "source": [
    "import torch\n",
    "import esm\n",
    "from torch import nn, optim\n",
    "from torch.utils.data import DataLoader, TensorDataset\n",
    "import random\n",
    "import pandas as pd\n",
    "\n",
    "\n",
    "# Check if a GPU is available, otherwise use CPU\n",
    "device = torch.device(\"cuda\" if torch.cuda.is_available() else \"cpu\")\n",
    "print(f'Using device: {device}')\n",
    "# Load the pre-trained ESM-2 model and its alphabet\n",
    "model, alphabet = esm.pretrained.esm2_t33_650M_UR50D()\n",
    "# model, alphabet = esm.pretrained.esm2_t6_8M_UR50D()\n",
    "model = model.to(device)\n",
    "batch_converter = alphabet.get_batch_converter()\n",
    "\n",
    "# Convert the data to batch format\n",
    "batch_labels, batch_strs, batch_tokens = batch_converter(data)\n",
    "\n",
    "# Prepare a dataset and dataloader for batching\n",
    "dataset = TensorDataset(batch_tokens)\n",
    "batch_size = 4\n",
    "dataloader = DataLoader(dataset, batch_size=batch_size, shuffle=True)\n",
    "\n",
    "# Define a loss function and optimizer\n",
    "criterion = nn.CrossEntropyLoss(ignore_index=alphabet.padding_idx)\n",
    "optimizer = optim.Adam(model.parameters(), lr=1e-5)\n",
    "\n",
    "# Masking function\n",
    "def mask_tokens(tokens, mask_idx, pad_idx, mask_prob=0.15):\n",
    "    labels = tokens.clone()\n",
    "    masked_tokens = tokens.clone()\n",
    "\n",
    "    # Create a mask based on the probability\n",
    "    mask = (torch.rand(tokens.shape) < mask_prob) & (tokens != pad_idx)\n",
    "\n",
    "    # Replace masked positions with the mask index\n",
    "    masked_tokens[mask] = mask_idx\n",
    "\n",
    "    return masked_tokens, labels\n",
    "\n",
    "# Enable training mode\n",
    "model.train()\n",
    "\n",
    "# Fine-tuning loop\n",
    "num_epochs = 5\n",
    "mask_idx = alphabet.mask_idx# torch.tensor(alphabet.mask_idx).to(device)\n",
    "pad_idx = alphabet.padding_idx #torch.tensor(alphabet.padding_idx).to(device)\n",
    "\n",
    "for epoch in range(num_epochs):\n",
    "    for batch in tqdm(dataloader):\n",
    "        batch_tokens = batch[0]\n",
    "        optimizer.zero_grad()\n",
    "\n",
    "        # Mask tokens\n",
    "        masked_tokens, labels = mask_tokens(batch_tokens, mask_idx, pad_idx)\n",
    "        masked_tokens = masked_tokens.to(device)\n",
    "        labels = labels.to(device)  # Move labels to GPU\n",
    "\n",
    "        # Forward pass: get the output from the model\n",
    "        # with torch.no_grad():\n",
    "        output = model(masked_tokens, repr_layers=[33])\n",
    "        logits = output[\"logits\"]\n",
    "        # Take the argmax of the logits to get the predicted amino acids\n",
    "        # predictions = torch.argmax(logits, dim=-1)\n",
    "        \n",
    "        # print(logits.size(), labels.size())\n",
    "        # print(logits.view(-1, logits.size(-1)).size(), labels.view(-1).size())\n",
    "        # Compute loss for masked language modeling\n",
    "        # argmax on 33 size vector (size of vocabulary) is performed inside CrossEntropyLoss function\n",
    "        loss = criterion(logits.view(-1, logits.size(-1)), labels.view(-1))  \n",
    "        loss.backward()\n",
    "        optimizer.step()\n",
    "        \n",
    "    print(f\"Epoch: {epoch}, Loss: {loss.item()}\")\n",
    "\n",
    "# Save the fine-tuned model\n",
    "torch.save(model.state_dict(), \"fine_tuned_esm2_masked_model.pth\")\n",
    "\n",
    "# Switch back to evaluation mode after fine-tuning\n",
    "model.eval()"
   ]
  },
  {
   "cell_type": "code",
   "execution_count": 4,
   "id": "ada4f1b3-8883-42f9-9876-39e073167d63",
   "metadata": {},
   "outputs": [
    {
     "data": {
      "text/plain": [
       "tensor([[ 0, 20, 15, 11,  5, 19, 12,  5, 15, 16, 10, 16, 12,  8, 18,  7, 15,  8,\n",
       "         21, 18,  8, 10, 16, 13, 12,  4, 13,  4, 22, 12, 19, 21, 11, 16,  6, 19,\n",
       "         18, 14, 16, 19, 15,  6,  8,  6, 10, 11, 16, 19,  2],\n",
       "        [ 0,  6, 12,  9,  7,  7,  7, 17,  5, 11,  4, 13, 15,  5,  6, 18, 16,  5,\n",
       "          6, 19, 12,  6, 18,  4, 15, 11, 18, 11,  4,  6,  7,  5,  6,  8,  6,  4,\n",
       "          4,  6,  6, 11, 19,  2,  1,  1,  1,  1,  1,  1,  1]])"
      ]
     },
     "execution_count": 4,
     "metadata": {},
     "output_type": "execute_result"
    }
   ],
   "source": [
    "batch_tokens"
   ]
  },
  {
   "cell_type": "code",
   "execution_count": 5,
   "id": "d0773206-f240-431e-b331-382c0cfdd2c9",
   "metadata": {},
   "outputs": [
    {
     "data": {
      "text/plain": [
       "tensor([[ 0, 20, 32, 11, 32, 19, 12,  5, 15, 16, 10, 16, 12,  8, 18, 32, 15,  8,\n",
       "         21, 18,  8, 10, 16, 13, 12,  4, 13,  4, 22, 12, 19, 21, 11, 16,  6, 19,\n",
       "         18, 32, 16, 32, 15,  6,  8,  6, 10, 32, 32, 19,  2],\n",
       "        [ 0,  6, 12,  9, 32,  7,  7, 17, 32, 11,  4, 13, 15,  5,  6, 18, 16, 32,\n",
       "         32, 19, 32,  6, 18,  4, 15, 11, 18, 32,  4, 32,  7,  5,  6,  8,  6,  4,\n",
       "          4,  6,  6, 11, 19,  2,  1,  1,  1,  1,  1,  1,  1]], device='cuda:0')"
      ]
     },
     "execution_count": 5,
     "metadata": {},
     "output_type": "execute_result"
    }
   ],
   "source": [
    "masked_tokens"
   ]
  },
  {
   "cell_type": "code",
   "execution_count": 6,
   "id": "50ab7d57-a785-4b47-9a47-b33b230eaf75",
   "metadata": {},
   "outputs": [
    {
     "data": {
      "text/plain": [
       "tensor([[ 0, 20, 15, 11,  5, 19, 12,  5, 15, 16, 10, 16, 12,  8, 18,  7, 15,  8,\n",
       "         21, 18,  8, 10, 16, 13, 12,  4, 13,  4, 22, 12, 19, 21, 11, 16,  6, 19,\n",
       "         18, 14, 16, 19, 15,  6,  8,  6, 10, 11, 16, 19,  2],\n",
       "        [ 0,  6, 12,  9,  7,  7,  7, 17,  5, 11,  4, 13, 15,  5,  6, 18, 16,  5,\n",
       "          6, 19, 12,  6, 18,  4, 15, 11, 18, 11,  4,  6,  7,  5,  6,  8,  6,  4,\n",
       "          4,  6,  6, 11, 19,  2,  1,  1,  1,  1,  1,  1,  1]], device='cuda:0')"
      ]
     },
     "execution_count": 6,
     "metadata": {},
     "output_type": "execute_result"
    }
   ],
   "source": [
    "labels"
   ]
  },
  {
   "cell_type": "code",
   "execution_count": 7,
   "id": "2af2f520-f546-4018-bb65-a30323882bbd",
   "metadata": {},
   "outputs": [
    {
     "data": {
      "text/plain": [
       "tensor([[[ 14.9760,  -8.2150,  -5.9843,  ..., -15.5670, -15.7102,  -8.2143],\n",
       "         [ -8.6602, -15.5507,  -9.4913,  ..., -15.7807, -16.0151, -15.5496],\n",
       "         [-10.9838, -19.3604, -10.5763,  ..., -16.1565, -16.1443, -19.3552],\n",
       "         ...,\n",
       "         [-11.1903, -19.1748, -11.2916,  ..., -16.1480, -16.1324, -19.1696],\n",
       "         [-11.7353, -20.3083, -11.2006,  ..., -16.2858, -16.3197, -20.3066],\n",
       "         [ -6.3241,  -9.8155,  13.7309,  ..., -16.5888, -16.5480,  -9.8441]],\n",
       "\n",
       "        [[ 15.6065,  -8.8213,  -5.9375,  ..., -15.5666, -15.7425,  -8.8252],\n",
       "         [ -7.9181, -16.1651,  -7.7032,  ..., -15.8610, -16.0526, -16.1708],\n",
       "         [-10.8046, -18.6040, -11.3581,  ..., -16.1035, -15.9465, -18.5995],\n",
       "         ...,\n",
       "         [-10.3284, -17.2729,  -9.5998,  ..., -15.9651, -15.9785, -17.2731],\n",
       "         [ -9.8864, -16.6112,  -8.8543,  ..., -15.9494, -15.9664, -16.6132],\n",
       "         [ -8.4657, -14.5306,  -5.9612,  ..., -15.8741, -15.8850, -14.5394]]],\n",
       "       device='cuda:0', grad_fn=<AddBackward0>)"
      ]
     },
     "execution_count": 7,
     "metadata": {},
     "output_type": "execute_result"
    }
   ],
   "source": [
    "output['logits']"
   ]
  },
  {
   "cell_type": "code",
   "execution_count": 24,
   "id": "e3d851d8-344b-4850-bd74-bc702f74bf00",
   "metadata": {},
   "outputs": [
    {
     "data": {
      "text/plain": [
       "tensor([[ 14.6652,  -8.3590,  -5.4929,  ..., -15.6166, -15.7767,  -8.3568],\n",
       "        [ -7.6443, -14.8921,  -7.3066,  ..., -15.8550, -16.0314, -14.8942],\n",
       "        [-10.9162, -18.5463, -11.2390,  ..., -16.1038, -15.9538, -18.5438],\n",
       "        ...,\n",
       "        [-10.7189, -18.5088, -11.2823,  ..., -16.2630, -16.2313, -18.4974],\n",
       "        [-11.6306, -19.6774, -10.7238,  ..., -16.2581, -16.2839, -19.6738],\n",
       "        [ -6.5811,  -9.0778,  14.4713,  ..., -16.5973, -16.4729,  -9.1092]],\n",
       "       device='cuda:0', grad_fn=<ViewBackward0>)"
      ]
     },
     "execution_count": 24,
     "metadata": {},
     "output_type": "execute_result"
    }
   ],
   "source": [
    "logits.view(-1, logits.size(-1))"
   ]
  },
  {
   "cell_type": "code",
   "execution_count": 25,
   "id": "7b757fac-8763-4882-8ab6-e88dddfaec1b",
   "metadata": {},
   "outputs": [
    {
     "data": {
      "text/plain": [
       "torch.Size([98, 33])"
      ]
     },
     "execution_count": 25,
     "metadata": {},
     "output_type": "execute_result"
    }
   ],
   "source": [
    "logits.view(-1, logits.size(-1)).size()"
   ]
  },
  {
   "cell_type": "code",
   "execution_count": 28,
   "id": "3e153751-43e4-4d3c-a3c5-dbfb3d471fd8",
   "metadata": {},
   "outputs": [
    {
     "data": {
      "text/plain": [
       "tensor([[ 0, 20, 15, 11,  5, 19, 12,  5, 15, 16, 10, 32, 12,  8, 18,  7, 15, 32,\n",
       "         21, 18,  8, 10, 32, 13, 12,  4, 13, 32, 22, 32, 19, 21, 11, 16,  6, 19,\n",
       "         18, 14, 16, 19, 15,  6, 32,  6, 10, 11, 32, 19,  2],\n",
       "        [32,  6, 12, 32,  7,  7, 32, 17,  5, 11,  4, 13, 15, 32, 32, 32, 16,  5,\n",
       "          6, 19, 12, 32, 18,  4, 15, 11, 18, 32,  4, 32,  7,  5, 32,  8,  6,  4,\n",
       "          4,  6,  6, 11, 19, 11, 16,  5,  6,  6,  2,  1,  1]])"
      ]
     },
     "execution_count": 28,
     "metadata": {},
     "output_type": "execute_result"
    }
   ],
   "source": [
    "masked_tokens"
   ]
  },
  {
   "cell_type": "code",
   "execution_count": 11,
   "id": "4f065bea-8c35-42b2-aa83-a3799c35687c",
   "metadata": {},
   "outputs": [
    {
     "data": {
      "text/plain": [
       "tensor([[ 0., 20., 12.,  9.,  7.,  7.,  7.,  6.,  6., 11.,  4., 13., 15.,  5.,\n",
       "          6., 18., 16.,  5.,  6., 19., 12.,  6.,  6.,  4., 15., 11., 18., 11.,\n",
       "          6.,  6.,  7.,  5.,  6.,  8.,  6.,  4.,  4.,  6.,  6., 11., 19.,  2.,\n",
       "          2.,  2.,  2.,  2.,  2.,  2.,  2.],\n",
       "        [ 0., 20., 15., 11.,  5., 19., 12.,  5., 15., 16., 10.,  4., 12.,  8.,\n",
       "         18.,  4.,  4.,  8., 21., 18.,  8., 10.,  4., 13.,  4.,  4., 13.,  4.,\n",
       "         22., 12., 19., 21., 11., 16., 15.,  4., 18.,  4., 16., 19., 15.,  6.,\n",
       "          8.,  6., 10., 11., 16., 19.,  2.]], device='cuda:0')"
      ]
     },
     "execution_count": 11,
     "metadata": {},
     "output_type": "execute_result"
    }
   ],
   "source": [
    "# Take the argmax of the logits to get the predicted amino acids\n",
    "predictions = torch.argmax(logits, dim=-1).float()\n",
    "predictions"
   ]
  },
  {
   "cell_type": "code",
   "execution_count": 30,
   "id": "11a19352-3a5c-4ade-8d16-30a2198b3385",
   "metadata": {},
   "outputs": [
    {
     "data": {
      "text/plain": [
       "1"
      ]
     },
     "execution_count": 30,
     "metadata": {},
     "output_type": "execute_result"
    }
   ],
   "source": [
    "pad_idx"
   ]
  },
  {
   "cell_type": "code",
   "execution_count": null,
   "id": "659e6ce3-0e6d-4131-ab3e-e74f433b2b98",
   "metadata": {},
   "outputs": [],
   "source": []
  }
 ],
 "metadata": {
  "kernelspec": {
   "display_name": "Python 3 (ipykernel)",
   "language": "python",
   "name": "python3"
  },
  "language_info": {
   "codemirror_mode": {
    "name": "ipython",
    "version": 3
   },
   "file_extension": ".py",
   "mimetype": "text/x-python",
   "name": "python",
   "nbconvert_exporter": "python",
   "pygments_lexer": "ipython3",
   "version": "3.10.14"
  }
 },
 "nbformat": 4,
 "nbformat_minor": 5
}
