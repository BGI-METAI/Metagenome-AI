{
 "cells": [
  {
   "cell_type": "code",
   "execution_count": 2,
   "metadata": {},
   "outputs": [],
   "source": [
    "import pandas as pd\n",
    "import seaborn as sns\n"
   ]
  },
  {
   "cell_type": "code",
   "execution_count": 10,
   "metadata": {},
   "outputs": [
    {
     "data": {
      "text/html": [
       "<div>\n",
       "<style scoped>\n",
       "    .dataframe tbody tr th:only-of-type {\n",
       "        vertical-align: middle;\n",
       "    }\n",
       "\n",
       "    .dataframe tbody tr th {\n",
       "        vertical-align: top;\n",
       "    }\n",
       "\n",
       "    .dataframe thead th {\n",
       "        text-align: right;\n",
       "    }\n",
       "</style>\n",
       "<table border=\"1\" class=\"dataframe\">\n",
       "  <thead>\n",
       "    <tr style=\"text-align: right;\">\n",
       "      <th></th>\n",
       "      <th>seq</th>\n",
       "      <th>label</th>\n",
       "    </tr>\n",
       "  </thead>\n",
       "  <tbody>\n",
       "    <tr>\n",
       "      <th>0</th>\n",
       "      <td>AFLFSGRREVMADACLQGMMGCVYGTAGGMDSAAAVLGDFCFLAGK...</td>\n",
       "      <td>PF12746.7</td>\n",
       "    </tr>\n",
       "    <tr>\n",
       "      <th>1</th>\n",
       "      <td>MVDVGGKPVSRRTAAASATVLLGEKAFWLVKENQLAKGDALAVAQI...</td>\n",
       "      <td>PF01967.21</td>\n",
       "    </tr>\n",
       "    <tr>\n",
       "      <th>2</th>\n",
       "      <td>VLDVACGTCDVAMEARNQTGDAAFIIGTDFSPGMLTLGLQKLKKNR...</td>\n",
       "      <td>PF13649.6</td>\n",
       "    </tr>\n",
       "    <tr>\n",
       "      <th>3</th>\n",
       "      <td>VVLERASLESVKVGKEYQLLNCDRHKGIAKKFKRDISTCRPDITHQ...</td>\n",
       "      <td>PF03587.14</td>\n",
       "    </tr>\n",
       "    <tr>\n",
       "      <th>4</th>\n",
       "      <td>GAVRVDVSGGLGTDAMVVSSYLNTDKSLVTVIVNADNQDRDISLAI...</td>\n",
       "      <td>PF17189.4</td>\n",
       "    </tr>\n",
       "    <tr>\n",
       "      <th>...</th>\n",
       "      <td>...</td>\n",
       "      <td>...</td>\n",
       "    </tr>\n",
       "    <tr>\n",
       "      <th>126166</th>\n",
       "      <td>VPEVLGARGYAADTDIVLDVTDPLGLAGGRFQLQTRDGAGKCTPHD...</td>\n",
       "      <td>PF13530.6</td>\n",
       "    </tr>\n",
       "    <tr>\n",
       "      <th>126167</th>\n",
       "      <td>VTGLEILRKARAEGYGVGAFNTNNMEFTQAILEAAEEMKSPVILAL...</td>\n",
       "      <td>PF01116.20</td>\n",
       "    </tr>\n",
       "    <tr>\n",
       "      <th>126168</th>\n",
       "      <td>KQVAKDRLKVILIHDRGELSDEVLDKIRLEILDVLSKYVEIENEDV...</td>\n",
       "      <td>PF03776.14</td>\n",
       "    </tr>\n",
       "    <tr>\n",
       "      <th>126169</th>\n",
       "      <td>AFLRCWSSYRTKAWMSDELEPVNGGRKDTFGGWGATLVDSLDTLWI...</td>\n",
       "      <td>PF01532.20</td>\n",
       "    </tr>\n",
       "    <tr>\n",
       "      <th>126170</th>\n",
       "      <td>QAIMLILLKLRQRNRIPRLPVYIDSPMGTNVFELFGRFPNWHKLSR...</td>\n",
       "      <td>PF10996.8</td>\n",
       "    </tr>\n",
       "  </tbody>\n",
       "</table>\n",
       "<p>126171 rows × 2 columns</p>\n",
       "</div>"
      ],
      "text/plain": [
       "                                                      seq       label\n",
       "0       AFLFSGRREVMADACLQGMMGCVYGTAGGMDSAAAVLGDFCFLAGK...   PF12746.7\n",
       "1       MVDVGGKPVSRRTAAASATVLLGEKAFWLVKENQLAKGDALAVAQI...  PF01967.21\n",
       "2       VLDVACGTCDVAMEARNQTGDAAFIIGTDFSPGMLTLGLQKLKKNR...   PF13649.6\n",
       "3       VVLERASLESVKVGKEYQLLNCDRHKGIAKKFKRDISTCRPDITHQ...  PF03587.14\n",
       "4       GAVRVDVSGGLGTDAMVVSSYLNTDKSLVTVIVNADNQDRDISLAI...   PF17189.4\n",
       "...                                                   ...         ...\n",
       "126166  VPEVLGARGYAADTDIVLDVTDPLGLAGGRFQLQTRDGAGKCTPHD...   PF13530.6\n",
       "126167  VTGLEILRKARAEGYGVGAFNTNNMEFTQAILEAAEEMKSPVILAL...  PF01116.20\n",
       "126168  KQVAKDRLKVILIHDRGELSDEVLDKIRLEILDVLSKYVEIENEDV...  PF03776.14\n",
       "126169  AFLRCWSSYRTKAWMSDELEPVNGGRKDTFGGWGATLVDSLDTLWI...  PF01532.20\n",
       "126170  QAIMLILLKLRQRNRIPRLPVYIDSPMGTNVFELFGRFPNWHKLSR...   PF10996.8\n",
       "\n",
       "[126171 rows x 2 columns]"
      ]
     },
     "execution_count": 10,
     "metadata": {},
     "output_type": "execute_result"
    }
   ],
   "source": [
    "df = pd.read_csv('/goofys/projects/MAI/data/brain-genomics-public/pfam.test.csv')\n",
    "# df = pd.read_csv('../transformer/pfam_tiny_1579.train.csv')\n",
    "# df = pd.read_csv('/goofys/projects/MAI/data/brain-genomics-public/pfam.train.csv')\n",
    "# df = pd.read_csv('/goofys/projects/MAI/data/brain-genomics-public/pfam.valid.csv')\n",
    "df"
   ]
  },
  {
   "cell_type": "code",
   "execution_count": 12,
   "metadata": {},
   "outputs": [
    {
     "data": {
      "text/plain": [
       "<Axes: xlabel='count', ylabel='Count'>"
      ]
     },
     "execution_count": 12,
     "metadata": {},
     "output_type": "execute_result"
    },
    {
     "data": {
      "image/png": "[encoded data removed]",
      "text/plain": [
       "<Figure size 640x480 with 1 Axes>"
      ]
     },
     "metadata": {},
     "output_type": "display_data"
    }
   ],
   "source": [
    "sns.histplot(df['label'].value_counts(), bins=50)"
   ]
  }
 ],
 "metadata": {
  "kernelspec": {
   "display_name": "ssi",
   "language": "python",
   "name": "python3"
  },
  "language_info": {
   "codemirror_mode": {
    "name": "ipython",
    "version": 3
   },
   "file_extension": ".py",
   "mimetype": "text/x-python",
   "name": "python",
   "nbconvert_exporter": "python",
   "pygments_lexer": "ipython3",
   "version": "3.10.12"
  }
 },
 "nbformat": 4,
 "nbformat_minor": 2
}
